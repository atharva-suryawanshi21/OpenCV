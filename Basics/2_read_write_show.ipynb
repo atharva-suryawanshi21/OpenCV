{
 "cells": [
  {
   "cell_type": "code",
   "execution_count": 2,
   "metadata": {},
   "outputs": [],
   "source": [
    "import cv2"
   ]
  },
  {
   "cell_type": "markdown",
   "metadata": {},
   "source": [
    "### Contents:\n",
    "1. Read video from camera\n",
    "    - make the video displayed to gray\n",
    "    - change resolution of video\n",
    "2. Read video from files\n",
    "3. Write the video (save)\n"
   ]
  },
  {
   "cell_type": "markdown",
   "metadata": {},
   "source": [
    "#### 1. Read video from camera"
   ]
  },
  {
   "cell_type": "markdown",
   "metadata": {},
   "source": [
    "Explaination\n",
    "1. cap = cv2.VideoCapture(0)\n",
    "    - '0' specifies the index of the camera device you want to capture video from\n",
    "    - can be -1,1,2,etc (in case of multiple cameras)\n",
    "2. ret, frame = cap.read()\n",
    "    - read() reads the next frame from video source\n",
    "    - if the frame is successfully read, 'ret' is set to True\n",
    "    - 'frame' contains actual video frame as an image(numpy array)\n",
    "3. cv2.waitKey(1) & 0xFF == ord('q')\n",
    "    - cv2.waitKey(1) -> waits for a key press for 1 millisecond If no key is pressed, it returns -1\n",
    "        - 1 millisecond assists in Real-Time Responsiveness, Non-Blocking and Frame Rate Control\n",
    "    - & 0xFF -> The result of cv2.waitKey(1) could be a larger integer, including bits beyond the lowest 8 bits. By performing the & 0xFF operation, you effectively mask out all other bits except for the lowest 8 bits. \n",
    "    - ord() -> This function returns the ASCII code of the character 'q', which is 113.\n",
    "4. cap.release() \n",
    "    - release the resources associated with the video capture device\n",
    "    - If you omit it, it can lead to resource leaks and may cause issues when trying to access the camera again in the future.\n",
    "\n",
    "\n",
    "\n"
   ]
  },
  {
   "cell_type": "code",
   "execution_count": 4,
   "metadata": {},
   "outputs": [],
   "source": [
    "cap = cv2.VideoCapture(0)\n",
    "\n",
    "while(True):           #While loop to capture frames continuously\n",
    "    ret, frame = cap.read()\n",
    "    \n",
    "    cv2.imshow('frame', frame)\n",
    "\n",
    "    if cv2.waitKey(1) & 0xFF == ord('q'):\n",
    "        break\n",
    "\n",
    "cap.release()\n",
    "cv2.destroyAllWindows()"
   ]
  },
  {
   "cell_type": "markdown",
   "metadata": {},
   "source": [
    "#### to make the the video displayed in gray color\n",
    "```\n",
    "gray = cv2.cvtColor(frame,cv2.COLOR_BGR2GRAY)\n",
    "cv2.imshow('Frames',gray)\n",
    "```"
   ]
  },
  {
   "cell_type": "markdown",
   "metadata": {},
   "source": [
    "#### to change resolution of video\n",
    "```\n",
    "cap.set(3,120) # 3 ->cv2.CAP_PROP_FRAME_WIDTH\n",
    "cap.set(4,100) # 4 ->cv2.CAP_PROP_FRAME_HEIGHT\n",
    "```"
   ]
  },
  {
   "cell_type": "markdown",
   "metadata": {},
   "source": [
    "note:\n",
    "1. In above code the system will set to default resolution if the specified resolution is not supported by the camera, like in this case.\n",
    "2. Why does the camera not crop to specified resolution?\n",
    "    - not be a standard functionality for all devices\n",
    "    - computationally intensive : involves capturing a larger frame and then cropping it to the desired width and height"
   ]
  },
  {
   "cell_type": "markdown",
   "metadata": {},
   "source": [
    "### 2. Open video file with some sligth modification to above code"
   ]
  },
  {
   "cell_type": "code",
   "execution_count": 5,
   "metadata": {},
   "outputs": [],
   "source": [
    "cap = cv2.VideoCapture(\"D:/GITHUB/ML/4_OpenCV/data/Megamind.avi\")\n",
    "#print(cap.isOpened())\n",
    "\n",
    "while(cap.isOpened()):           #if File opened successfully, execute infinite while loop\n",
    "    ret, frame = cap.read()\n",
    "    \n",
    "    if not ret:\n",
    "        # Video has ended\n",
    "        break\n",
    "\n",
    "    width_at_instance = cap.get(cv2.CAP_PROP_FRAME_WIDTH) \n",
    "    #https://docs.opencv.org/4.0.0/d4/d15/group__videoio__flags__base.html#gaeb8dd9c89c10a5c63c139bf7c4f5704d\n",
    "    height_at_instance = cap.get(cv2.CAP_PROP_FRAME_HEIGHT)\n",
    "\n",
    "    cv2.imshow('frame', frame)\n",
    "\n",
    "    if cv2.waitKey(1) & 0xFF == ord('q'):\n",
    "        break\n",
    "\n",
    "cap.release()\n",
    "cv2.destroyAllWindows()"
   ]
  },
  {
   "cell_type": "markdown",
   "metadata": {},
   "source": [
    "### 3. Write a video"
   ]
  },
  {
   "cell_type": "markdown",
   "metadata": {},
   "source": [
    "Explaination:\n",
    "1. fourcc\n",
    "    - a sequence of four bytes used to identify data formats in video\n",
    "    - It's crucial for encoding and decoding video frames, helping video players and editors understand how to process video data\n",
    "    - XVID, an open-source codec, is famous for its efficient compression, reducing video file sizes while maintaining quality."
   ]
  },
  {
   "cell_type": "code",
   "execution_count": 6,
   "metadata": {},
   "outputs": [],
   "source": [
    "cap = cv2.VideoCapture(0)\n",
    "#Four-Character Code\n",
    "fourcc = cv2.VideoWriter_fourcc(*'XVID')\n",
    "\n",
    "fps = 20.0\n",
    "frame_size = (640,480)\n",
    "out = cv2.VideoWriter('New_Video.avi', fourcc, fps, frame_size )\n",
    "\n",
    "while(cap.isOpened()):           \n",
    "    ret, frame = cap.read()\n",
    "    if ret == True:\n",
    "\n",
    "        out.write(frame)\n",
    "\n",
    "        cv2.imshow('frame', frame)\n",
    "\n",
    "        if cv2.waitKey(1) & 0xFF == ord('q'):\n",
    "            break\n",
    "    else:\n",
    "        break\n",
    "\n",
    "cap.release()\n",
    "out.release()\n",
    "cv2.destroyAllWindows()"
   ]
  },
  {
   "cell_type": "code",
   "execution_count": null,
   "metadata": {},
   "outputs": [],
   "source": []
  }
 ],
 "metadata": {
  "kernelspec": {
   "display_name": "Python 3",
   "language": "python",
   "name": "python3"
  },
  "language_info": {
   "codemirror_mode": {
    "name": "ipython",
    "version": 3
   },
   "file_extension": ".py",
   "mimetype": "text/x-python",
   "name": "python",
   "nbconvert_exporter": "python",
   "pygments_lexer": "ipython3",
   "version": "3.11.3"
  }
 },
 "nbformat": 4,
 "nbformat_minor": 2
}
