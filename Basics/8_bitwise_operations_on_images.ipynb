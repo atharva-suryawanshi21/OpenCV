{
 "cells": [
  {
   "cell_type": "markdown",
   "metadata": {},
   "source": [
    "# Contents:\n",
    "1. basics:\n",
    "    - and\n",
    "    - or\n",
    "    - xor\n",
    "    - not"
   ]
  },
  {
   "cell_type": "markdown",
   "metadata": {},
   "source": [
    "# Bitwise Operations:\n",
    "\n",
    "Bitwise operations on images are used for:\n",
    "\n",
    "- Image Masking: Isolating specific parts of an image.\n",
    "- Image Composition: Merging images with control over pixel combination.\n",
    "- ROI Extraction: Extracting regions of interest.\n",
    "- Image Morphology: Erosion, dilation, noise reduction, etc.\n",
    "- Image Thresholding: Creating binary images based on intensity.\n",
    "- Object Detection: Manipulating binary masks for object detection.\n",
    "- Custom Operations: Implementing custom pixel-level operations.\n",
    "- Efficiency: Fast and computationally efficient at the bit level."
   ]
  },
  {
   "cell_type": "code",
   "execution_count": 2,
   "metadata": {},
   "outputs": [],
   "source": [
    "import cv2\n",
    "import numpy as np"
   ]
  },
  {
   "cell_type": "code",
   "execution_count": 3,
   "metadata": {},
   "outputs": [],
   "source": [
    "def show(img):\n",
    "    cv2.imshow(\"The Image\", img)\n",
    "    cv2.waitKey(0)\n",
    "    cv2.destroyAllWindows()"
   ]
  },
  {
   "cell_type": "code",
   "execution_count": 31,
   "metadata": {},
   "outputs": [],
   "source": [
    "# produce a image\n",
    "img1 = np.zeros((300,500,3), np.uint8)\n",
    "img1 = cv2.rectangle(img1, (200,0), (300,150), (255,255,255), -1)\n",
    "show(img1)\n",
    "\n",
    "# produce a mask\n",
    "mask = np.zeros((300,500,3), np.uint8)\n",
    "mask = cv2.rectangle(mask, (250,0), (500,300), (255,255,255), -1)\n",
    "show(mask)\n"
   ]
  },
  {
   "cell_type": "code",
   "execution_count": null,
   "metadata": {},
   "outputs": [],
   "source": []
  }
 ],
 "metadata": {
  "kernelspec": {
   "display_name": "Python 3",
   "language": "python",
   "name": "python3"
  },
  "language_info": {
   "codemirror_mode": {
    "name": "ipython",
    "version": 3
   },
   "file_extension": ".py",
   "mimetype": "text/x-python",
   "name": "python",
   "nbconvert_exporter": "python",
   "pygments_lexer": "ipython3",
   "version": "3.11.3"
  }
 },
 "nbformat": 4,
 "nbformat_minor": 2
}
