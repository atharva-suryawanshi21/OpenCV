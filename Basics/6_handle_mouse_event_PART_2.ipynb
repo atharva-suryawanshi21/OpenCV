{
 "cells": [
  {
   "cell_type": "markdown",
   "metadata": {},
   "source": [
    "# Contents:\n",
    "1. Small circle at the point at which left clicked.\n",
    "2. Draw a line to the new point(next left click) from previous point.\n",
    "3. New Window showing the color of the point at which left clicked."
   ]
  },
  {
   "cell_type": "code",
   "execution_count": 8,
   "metadata": {},
   "outputs": [],
   "source": [
    "import cv2\n",
    "import numpy as np"
   ]
  },
  {
   "cell_type": "code",
   "execution_count": 9,
   "metadata": {},
   "outputs": [],
   "source": [
    "def click_event(event, x,y,flags,param):\n",
    "    if event == cv2.EVENT_LBUTTONDOWN:\n",
    "        cv2.circle(img, (x,y), 7, (0,0,255), -1)\n",
    "        points.append((x,y))\n",
    "\n",
    "        if len(points) >1:\n",
    "            cv2.line(img,points[-1], points[-2], (255,0,0), 5)\n",
    "\n",
    "        cv2.imshow('The After Image', img)\n",
    "\n",
    "img = cv2.imread(\"D:/GITHUB/OpenCV/data/lena.jpg\")\n",
    "cv2.imshow('The Main Image', img)\n",
    "points = []\n",
    "cv2.setMouseCallback('The Main Image', click_event)\n",
    "\n",
    "cv2.waitKey(0)\n",
    "cv2.destroyAllWindows()"
   ]
  },
  {
   "cell_type": "markdown",
   "metadata": {},
   "source": [
    "### New Window for color same as point of contact"
   ]
  },
  {
   "cell_type": "code",
   "execution_count": 13,
   "metadata": {},
   "outputs": [],
   "source": [
    "def click_event(event, x,y,flags,param):\n",
    "    if event == cv2.EVENT_LBUTTONDOWN:\n",
    "        blue = img[x,y,0]\n",
    "        green = img[x,y,1]\n",
    "        red = img[x,y,2]\n",
    "        \n",
    "        new_image = img.copy()\n",
    "        new_image[:] = [blue,green,red]  # [:] means all points\n",
    "        cv2.imshow('The After Image', new_image)\n",
    "\n",
    "\n",
    "img = cv2.imread(\"D:/GITHUB/OpenCV/data/lena.jpg\")\n",
    "cv2.imshow('The Main Image', img)\n",
    "\n",
    "cv2.setMouseCallback('The Main Image', click_event)\n",
    "\n",
    "cv2.waitKey(0)\n",
    "cv2.destroyAllWindows()"
   ]
  },
  {
   "cell_type": "code",
   "execution_count": null,
   "metadata": {},
   "outputs": [],
   "source": []
  }
 ],
 "metadata": {
  "kernelspec": {
   "display_name": "Python 3",
   "language": "python",
   "name": "python3"
  },
  "language_info": {
   "codemirror_mode": {
    "name": "ipython",
    "version": 3
   },
   "file_extension": ".py",
   "mimetype": "text/x-python",
   "name": "python",
   "nbconvert_exporter": "python",
   "pygments_lexer": "ipython3",
   "version": "3.11.3"
  }
 },
 "nbformat": 4,
 "nbformat_minor": 2
}
