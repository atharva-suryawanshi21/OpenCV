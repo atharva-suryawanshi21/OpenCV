{
 "cells": [
  {
   "cell_type": "markdown",
   "metadata": {},
   "source": [
    "# Contents:\n",
    "1. show image height and width on the video\n",
    "2. show date and time on the video"
   ]
  },
  {
   "cell_type": "markdown",
   "metadata": {},
   "source": [
    "### Height and Width"
   ]
  },
  {
   "cell_type": "code",
   "execution_count": 6,
   "metadata": {},
   "outputs": [],
   "source": [
    "import cv2\n",
    "\n",
    "cap = cv2.VideoCapture(0)\n",
    "\n",
    "while(cap.isOpened()):\n",
    "    ret, frame = cap.read()\n",
    "\n",
    "    if ret == True:\n",
    "        text = \"Width : \"+ str(cap.get(3))+ \" Height: \"+ str(cap.get(4))\n",
    "        coordinates = (10,50)\n",
    "        font = cv2.FONT_ITALIC\n",
    "        font_scale = 1\n",
    "        color = (23,34,211) #blue,green,red\n",
    "        thickness = 4\n",
    "        line_type = cv2.LINE_8\n",
    "        frame = cv2.putText(frame, \n",
    "                            text, \n",
    "                            coordinates,\n",
    "                            font,\n",
    "                            font_scale,\n",
    "                            color,\n",
    "                            thickness,\n",
    "                            line_type)\n",
    "        cv2.imshow('Resolution_frame', frame)\n",
    "        if(cv2.waitKey(1)  & 0xFF == ord('q')):\n",
    "            break\n",
    "    else:\n",
    "        break\n",
    "\n",
    "cap.release()\n",
    "cv2.destroyAllWindows()"
   ]
  },
  {
   "cell_type": "markdown",
   "metadata": {},
   "source": [
    "#### Date and time "
   ]
  },
  {
   "cell_type": "code",
   "execution_count": null,
   "metadata": {},
   "outputs": [],
   "source": [
    "import cv2\n",
    "import datetime\n",
    "\n",
    "cap = cv2.VideoCapture(0)\n",
    "\n",
    "while(cap.isOpened()):\n",
    "    ret, frame = cap.read()\n",
    "\n",
    "    if ret == True:\n",
    "        date_time = str(datetime.datetime.now())\n",
    "        coordinates = (10,50)\n",
    "        font = cv2.FONT_ITALIC\n",
    "        font_scale = 1\n",
    "        color = (23,34,211) #blue,green,red\n",
    "        thickness = 4\n",
    "        line_type = cv2.LINE_8\n",
    "        frame = cv2.putText(frame, \n",
    "                            date_time, \n",
    "                            coordinates,\n",
    "                            font,\n",
    "                            font_scale,\n",
    "                            color,\n",
    "                            thickness,\n",
    "                            line_type)\n",
    "        cv2.imshow('Resolution_frame', frame)\n",
    "        if(cv2.waitKey(1)  & 0xFF == ord('q')):\n",
    "            break\n",
    "    else:\n",
    "        break\n",
    "\n",
    "cap.release()\n",
    "cv2.destroyAllWindows()"
   ]
  },
  {
   "cell_type": "markdown",
   "metadata": {},
   "source": [
    "To get date and and time separately\n",
    "1. date-> date_time.split()[0]\n",
    "2. time-> date_time.split()[1]"
   ]
  }
 ],
 "metadata": {
  "kernelspec": {
   "display_name": "Python 3",
   "language": "python",
   "name": "python3"
  },
  "language_info": {
   "codemirror_mode": {
    "name": "ipython",
    "version": 3
   },
   "file_extension": ".py",
   "mimetype": "text/x-python",
   "name": "python",
   "nbconvert_exporter": "python",
   "pygments_lexer": "ipython3",
   "version": "3.11.3"
  }
 },
 "nbformat": 4,
 "nbformat_minor": 2
}
