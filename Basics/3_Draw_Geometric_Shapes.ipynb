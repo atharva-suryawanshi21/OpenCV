{
 "cells": [
  {
   "cell_type": "code",
   "execution_count": 42,
   "metadata": {},
   "outputs": [],
   "source": [
    "import cv2"
   ]
  },
  {
   "cell_type": "markdown",
   "metadata": {},
   "source": [
    "## Contents:\n",
    "1. add line\n",
    "2. add arrowed line\n",
    "3. add rectangle\n",
    "4. add Circle\n",
    "5. add text\n",
    "6. create image with numpy zeros method"
   ]
  },
  {
   "cell_type": "code",
   "execution_count": 43,
   "metadata": {},
   "outputs": [],
   "source": [
    "img_path = \"D:/GITHUB/ML/4_OpenCV/data/lena.jpg\"\n",
    "img = cv2.imread(img_path, 1)\n",
    "\n",
    "# line(image , starting point, ending point, (Blue,Green,Red), Thickness)\n",
    "updated_img = cv2.line(img, (0,0), (255,255), (233,23,100), 10)\n",
    "\n",
    "#arrowedLine(same arguments)\n",
    "updated_img = cv2.arrowedLine(updated_img, (400,255), (100,350), (0,98,211), 5)\n",
    "\n",
    "#rectangle (same arguments) starting and ending point represent diagonal \n",
    "# To fill the rectangle with a color:- thickness=-1\n",
    "updated_img = cv2.rectangle(updated_img, (400,400), (500,500), (33,233,45), -1)\n",
    "\n",
    "#circle(image, centre, radius, (Blue,Green, Red), thickness/fill)\n",
    "updated_img = cv2.circle(updated_img, (400,100), 50, (211,211,211), -1)\n",
    "\n",
    "# putText(image, sentence, position, font, font scale, (blue,green,red), thickness of text, type of line used for text)\n",
    "font = cv2.FONT_HERSHEY_COMPLEX\n",
    "line_type = cv2.LINE_8\n",
    "updated_img = cv2.putText(updated_img, 'My OpenCV',(0,233), font, 2, (23,211,0), 2, line_type)\n",
    "\n",
    "cv2.imshow(\"Geo_img\", updated_img)\n",
    "cv2.waitKey()\n",
    "cv2.destroyAllWindows()"
   ]
  },
  {
   "cell_type": "markdown",
   "metadata": {},
   "source": [
    "### To create image with numpy zeros method\n",
    "To create a black image\n",
    "```\n",
    "img = np.zeros([512,512,3], np.unit8)\n",
    "```\n",
    "- creates array with zeros, shape of (512,512,3), 3d array with 512*512 pixels and 3 color channels\n",
    "- 'np.uint8' data type specifies that each element in the array should be an 8-bit unsigned integer, which is commonly used for image data. "
   ]
  }
 ],
 "metadata": {
  "kernelspec": {
   "display_name": "Python 3",
   "language": "python",
   "name": "python3"
  },
  "language_info": {
   "codemirror_mode": {
    "name": "ipython",
    "version": 3
   },
   "file_extension": ".py",
   "mimetype": "text/x-python",
   "name": "python",
   "nbconvert_exporter": "python",
   "pygments_lexer": "ipython3",
   "version": "3.11.3"
  }
 },
 "nbformat": 4,
 "nbformat_minor": 2
}
