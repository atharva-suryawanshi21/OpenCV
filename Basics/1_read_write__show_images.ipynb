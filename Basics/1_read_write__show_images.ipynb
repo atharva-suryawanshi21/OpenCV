{
 "cells": [
  {
   "cell_type": "code",
   "execution_count": 17,
   "metadata": {},
   "outputs": [
    {
     "data": {
      "text/plain": [
       "'4.8.1'"
      ]
     },
     "execution_count": 17,
     "metadata": {},
     "output_type": "execute_result"
    }
   ],
   "source": [
    "import cv2\n",
    "cv2.__version__"
   ]
  },
  {
   "cell_type": "markdown",
   "metadata": {},
   "source": [
    "### Read and Show the image\n",
    "1. imread()\n",
    "    - arguments-> image path, flag\n",
    "    - flags:-\n",
    "        - 1 -> colored image\n",
    "        - 0 -> grayscale\n",
    "        - -1 -> read the image without any change in the number of channels or depth. alpha channel or other special channels, are preserved\n",
    "2. imshow()\n",
    "    - arguments-> image name, image variable \n",
    "3. waitKey()\n",
    "    - argumrnt-> no. of milisecond the window is displayed\n",
    "    - the output is captured in the variable 'k'\n",
    "4. destroyAllWindows()\n",
    "    - close all OpenCV windows that are currently open\n",
    "    - 27 is the ascii code for 'Ecs'"
   ]
  },
  {
   "cell_type": "code",
   "execution_count": 18,
   "metadata": {},
   "outputs": [],
   "source": [
    "img_path_1 = \"D:/GITHUB/ML/4_OpenCV/data/lena.jpg\"\n",
    "img_1 = cv2.imread(img_path_1,1)\n",
    "\n",
    "cv2.imshow('len_img',img_1)\n",
    "k = cv2.waitKey(4000)  #due to 0, waits indefinitely until any key is pressed\n",
    "if k==27:\n",
    "    cv2.destroyAllWindows()  #after a key is pressed to close the window created by cv2.imshow()."
   ]
  },
  {
   "cell_type": "markdown",
   "metadata": {},
   "source": [
    "### Write the image\n",
    "1. imwrite()\n",
    "    - arguments-> image name, image variable\n",
    "2. ord()\n",
    "    - checks if the key that was pressed has an ASCII code equal to the ASCII code of 's'. If the 's' key is pressed, the condition becomes true."
   ]
  },
  {
   "cell_type": "code",
   "execution_count": 19,
   "metadata": {},
   "outputs": [],
   "source": [
    "if k==ord('s'):\n",
    "    cv2.imwrite('lena_copy.png', img_1)\n",
    "    cv2.destroyAllWindows()"
   ]
  }
 ],
 "metadata": {
  "kernelspec": {
   "display_name": "py3-TF2",
   "language": "python",
   "name": "python3"
  },
  "language_info": {
   "codemirror_mode": {
    "name": "ipython",
    "version": 3
   },
   "file_extension": ".py",
   "mimetype": "text/x-python",
   "name": "python",
   "nbconvert_exporter": "python",
   "pygments_lexer": "ipython3",
   "version": "3.11.3"
  }
 },
 "nbformat": 4,
 "nbformat_minor": 2
}
