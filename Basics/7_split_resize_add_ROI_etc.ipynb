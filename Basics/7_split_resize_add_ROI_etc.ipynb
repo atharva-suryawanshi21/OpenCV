{
 "cells": [
  {
   "cell_type": "markdown",
   "metadata": {},
   "source": [
    "# Contents:\n",
    "1. Basics:\n",
    "    - shape\n",
    "    - size\n",
    "    - data type\n",
    "    - split into BGR\n",
    "    - merge BGR\n",
    "2. Crop and paste Image\n",
    "    - resize\n",
    "3. Add two images\n",
    "    - add\n",
    "    - addWeighted"
   ]
  },
  {
   "cell_type": "code",
   "execution_count": 9,
   "metadata": {},
   "outputs": [],
   "source": [
    "import cv2"
   ]
  },
  {
   "cell_type": "code",
   "execution_count": 10,
   "metadata": {},
   "outputs": [],
   "source": [
    "img = cv2.imread(\"D:\\GITHUB\\OpenCV\\data\\messi5.jpg\")"
   ]
  },
  {
   "cell_type": "markdown",
   "metadata": {},
   "source": [
    "### 1. Basics"
   ]
  },
  {
   "cell_type": "code",
   "execution_count": 17,
   "metadata": {},
   "outputs": [
    {
     "name": "stdout",
     "output_type": "stream",
     "text": [
      "Image Shape:- (342, 548, 3)\n",
      "Image Total Pixel:- 562248\n",
      "Image Data Type:- uint8\n"
     ]
    }
   ],
   "source": [
    "# Shape:- tuple of no. of rows, columns and channels\n",
    "print(f\"Image Shape:- {img.shape}\")\n",
    "\n",
    "# size :- total no. of pixels \n",
    "print(f\"Image Total Pixel:- {img.size}\")\n",
    "\n",
    "# data type of image\n",
    "print(f\"Image Data Type:- {img.dtype}\")\n",
    "\n",
    "# split image in 3 channels\n",
    "B, G, R = cv2.split(img)\n",
    "\n",
    "# merge bgr channels into one\n",
    "same_img = cv2.merge((B,G,R))\n",
    "\n",
    "def show(img_passed):\n",
    "    cv2.imshow(\"The image\",img_passed)\n",
    "    cv2.waitKey(0)\n",
    "    cv2.destroyAllWindows()\n",
    "\n",
    "show(same_img)"
   ]
  },
  {
   "cell_type": "markdown",
   "metadata": {},
   "source": [
    "### 2. Crop and Paste part of the image"
   ]
  },
  {
   "cell_type": "code",
   "execution_count": 20,
   "metadata": {},
   "outputs": [],
   "source": [
    "# CROP THE IMAGE\n",
    "# img[ top row : bottom row , left column: right column ]\n",
    "ball = img[280:340, 330:390]\n",
    "show(ball)\n",
    "\n",
    "# PLACE THE BALL\n",
    "img[273:333, 100:160] = ball\n",
    "show(img)"
   ]
  },
  {
   "cell_type": "markdown",
   "metadata": {},
   "source": [
    "### Add two images"
   ]
  },
  {
   "cell_type": "code",
   "execution_count": 55,
   "metadata": {},
   "outputs": [],
   "source": [
    "img2 = cv2.imread(\"D:\\GITHUB\\OpenCV\\data\\opencv-logo.png\")\n",
    "\n",
    "img = cv2.resize(img, (512, 512))\n",
    "img2 = cv2.resize(img2, (512, 512))\n",
    "\n",
    "# add\n",
    "img3 = cv2.add(img,img2)\n",
    "show(img3)\n",
    "\n",
    "# weighted add\n",
    "# addWeighted( image1, alpha, image2, alpha, gamma)  gamma:-  scalar value that is added to the weighted sum of the images\n",
    "img3 = cv2.addWeighted(img, 0.2, img2, 0.8, 0)\n",
    "show(img3)"
   ]
  },
  {
   "cell_type": "code",
   "execution_count": null,
   "metadata": {},
   "outputs": [],
   "source": []
  }
 ],
 "metadata": {
  "kernelspec": {
   "display_name": "Python 3",
   "language": "python",
   "name": "python3"
  },
  "language_info": {
   "codemirror_mode": {
    "name": "ipython",
    "version": 3
   },
   "file_extension": ".py",
   "mimetype": "text/x-python",
   "name": "python",
   "nbconvert_exporter": "python",
   "pygments_lexer": "ipython3",
   "version": "3.11.3"
  }
 },
 "nbformat": 4,
 "nbformat_minor": 2
}
