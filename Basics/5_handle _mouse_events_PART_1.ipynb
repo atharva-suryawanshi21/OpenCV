{
 "cells": [
  {
   "cell_type": "markdown",
   "metadata": {},
   "source": [
    "# Contents:\n",
    "1. Various mouse Events\n",
    "2. Define Function:\n",
    "    - to handle left click\n",
    "    - to handle right click"
   ]
  },
  {
   "cell_type": "code",
   "execution_count": 1,
   "metadata": {},
   "outputs": [],
   "source": [
    "import numpy as np\n",
    "import cv2"
   ]
  },
  {
   "cell_type": "code",
   "execution_count": 2,
   "metadata": {},
   "outputs": [
    {
     "data": {
      "text/plain": [
       "['EVENT_FLAG_ALTKEY',\n",
       " 'EVENT_FLAG_CTRLKEY',\n",
       " 'EVENT_FLAG_LBUTTON',\n",
       " 'EVENT_FLAG_MBUTTON',\n",
       " 'EVENT_FLAG_RBUTTON',\n",
       " 'EVENT_FLAG_SHIFTKEY',\n",
       " 'EVENT_LBUTTONDBLCLK',\n",
       " 'EVENT_LBUTTONDOWN',\n",
       " 'EVENT_LBUTTONUP',\n",
       " 'EVENT_MBUTTONDBLCLK',\n",
       " 'EVENT_MBUTTONDOWN',\n",
       " 'EVENT_MBUTTONUP',\n",
       " 'EVENT_MOUSEHWHEEL',\n",
       " 'EVENT_MOUSEMOVE',\n",
       " 'EVENT_MOUSEWHEEL',\n",
       " 'EVENT_RBUTTONDBLCLK',\n",
       " 'EVENT_RBUTTONDOWN',\n",
       " 'EVENT_RBUTTONUP']"
      ]
     },
     "execution_count": 2,
     "metadata": {},
     "output_type": "execute_result"
    }
   ],
   "source": [
    "events = [i for i in dir(cv2) if 'EVENT' in i ]\n",
    "events"
   ]
  },
  {
   "cell_type": "code",
   "execution_count": 3,
   "metadata": {},
   "outputs": [],
   "source": [
    "def click_event(event, x, y, flags, param):\n",
    "    if event == cv2.EVENT_LBUTTONDOWN:\n",
    "        print(x,' , ', y)\n",
    "        font = cv2.FONT_HERSHEY_COMPLEX\n",
    "        text = str(x)+','+str(y)\n",
    "        cv2.putText(img, text, (x,y), font, 0.5,(0,255,0), 2, cv2.LINE_8)\n",
    "        cv2.imshow(\"The Image\", img)\n",
    "\n",
    "    if event == cv2.EVENT_RBUTTONDOWN:\n",
    "        blue = img[ y, x, 0]\n",
    "        green = img[ y, x, 1]\n",
    "        red = img[ y, x, 2]\n",
    "        font = cv2.FONT_HERSHEY_COMPLEX\n",
    "        strBGR = str(blue)+','+str(green)+','+str(red)\n",
    "        cv2.putText(img, strBGR, (x,y), font, 0.5,(0,255,255), 2, cv2.LINE_8)\n",
    "        cv2.imshow(\"The Image\", img)"
   ]
  },
  {
   "cell_type": "code",
   "execution_count": 4,
   "metadata": {},
   "outputs": [
    {
     "name": "stdout",
     "output_type": "stream",
     "text": [
      "300  ,  220\n",
      "155  ,  137\n",
      "326  ,  423\n",
      "117  ,  380\n",
      "278  ,  334\n"
     ]
    }
   ],
   "source": [
    "img_path_1 = \"D:/GITHUB/OpenCV/data/lena.jpg\"\n",
    "img = cv2.imread(img_path_1,1)\n",
    "cv2.imshow('The Main Image', img)\n",
    "\n",
    "cv2.setMouseCallback('The Main Image', click_event)\n",
    "\n",
    "cv2.waitKey(0)\n",
    "cv2.destroyAllWindows()"
   ]
  }
 ],
 "metadata": {
  "kernelspec": {
   "display_name": "Python 3",
   "language": "python",
   "name": "python3"
  },
  "language_info": {
   "codemirror_mode": {
    "name": "ipython",
    "version": 3
   },
   "file_extension": ".py",
   "mimetype": "text/x-python",
   "name": "python",
   "nbconvert_exporter": "python",
   "pygments_lexer": "ipython3",
   "version": "3.11.3"
  }
 },
 "nbformat": 4,
 "nbformat_minor": 2
}
